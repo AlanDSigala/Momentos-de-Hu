{
  "nbformat": 4,
  "nbformat_minor": 0,
  "metadata": {
    "colab": {
      "provenance": [],
      "authorship_tag": "ABX9TyOpp8D5ZgGhR5Bo0+J+BelE",
      "include_colab_link": true
    },
    "kernelspec": {
      "name": "python3",
      "display_name": "Python 3"
    },
    "language_info": {
      "name": "python"
    }
  },
  "cells": [
    {
      "cell_type": "markdown",
      "metadata": {
        "id": "view-in-github",
        "colab_type": "text"
      },
      "source": [
        "<a href=\"https://colab.research.google.com/github/AlanDSigala/Momentos-de-Hu/blob/main/Proyecto2.ipynb\" target=\"_parent\"><img src=\"https://colab.research.google.com/assets/colab-badge.svg\" alt=\"Open In Colab\"/></a>"
      ]
    },
    {
      "cell_type": "markdown",
      "source": [
        "reconocimiento de formas"
      ],
      "metadata": {
        "id": "9bcWIHTgHQqZ"
      }
    },
    {
      "cell_type": "code",
      "source": [
        "! pip install kaggle"
      ],
      "metadata": {
        "id": "XlGqoa9_Td0F"
      },
      "execution_count": null,
      "outputs": []
    },
    {
      "cell_type": "code",
      "source": [
        "from google.colab import drive\n",
        "drive.mount('/content/drive')"
      ],
      "metadata": {
        "colab": {
          "base_uri": "https://localhost:8080/"
        },
        "id": "_ajnqUmHUu9r",
        "outputId": "3d3176ac-deb3-478b-f6f6-c9a90a691d61"
      },
      "execution_count": 1,
      "outputs": [
        {
          "output_type": "stream",
          "name": "stdout",
          "text": [
            "Mounted at /content/drive\n"
          ]
        }
      ]
    },
    {
      "cell_type": "code",
      "source": [
        "! mkdir ~/.kaggle"
      ],
      "metadata": {
        "id": "UfcbaGT_V4ec"
      },
      "execution_count": null,
      "outputs": []
    },
    {
      "cell_type": "code",
      "source": [
        "!cp /content/drive/MyDrive/kaggle.json ~/.kaggle/kaggle.json"
      ],
      "metadata": {
        "id": "X6YWQnxkWILV"
      },
      "execution_count": null,
      "outputs": []
    },
    {
      "cell_type": "code",
      "source": [
        "! chmod 600 ~/.kaggle/kaggle.json"
      ],
      "metadata": {
        "id": "Y1rOtyMSWcTr"
      },
      "execution_count": null,
      "outputs": []
    },
    {
      "cell_type": "code",
      "source": [
        "! kaggle datasets download -d smeschke/four-shapes"
      ],
      "metadata": {
        "colab": {
          "base_uri": "https://localhost:8080/"
        },
        "id": "gTAysbjmYTR4",
        "outputId": "3beda11f-b43c-41d1-dd42-b3d9c2af3dd7"
      },
      "execution_count": null,
      "outputs": [
        {
          "output_type": "stream",
          "name": "stdout",
          "text": [
            "Downloading four-shapes.zip to /content\n",
            "\r  0% 0.00/21.6M [00:00<?, ?B/s]\r 23% 5.00M/21.6M [00:00<00:00, 46.1MB/s]\r 83% 18.0M/21.6M [00:00<00:00, 94.8MB/s]\n",
            "\r100% 21.6M/21.6M [00:00<00:00, 95.9MB/s]\n"
          ]
        }
      ]
    },
    {
      "cell_type": "code",
      "source": [
        "! unzip four-shapes.zip"
      ],
      "metadata": {
        "id": "PuiapzVhuplf"
      },
      "execution_count": null,
      "outputs": []
    },
    {
      "cell_type": "code",
      "source": [
        "import os\n",
        "import cv2\n",
        "import numpy as np\n",
        "import random\n",
        "\n",
        "dataset_path = '/content/shapes'\n",
        "\n",
        "# Lista para almacenar las rutas de las imágenes\n",
        "imagenes = []\n",
        "\n",
        "# Recorre las carpetas y guarda las rutas de las imágenes en la lista\n",
        "for clase in os.listdir(dataset_path):\n",
        "    clase_path = os.path.join(dataset_path, clase)\n",
        "    if os.path.isdir(clase_path):\n",
        "        for imagen_file in os.listdir(clase_path):\n",
        "            imagen_path = os.path.join(clase_path, imagen_file)\n",
        "            imagenes.append((imagen_path, clase))\n",
        "\n",
        "# Baraja aleatoriamente las imagenes\n",
        "random.shuffle(imagenes)\n",
        "\n",
        "# Variables para contar las imagenes de cada clase en la muestra\n",
        "contador_por_clase = {'circulo': 0, 'cuadrado': 0, 'triangulo': 0, 'star': 0}\n",
        "\n",
        "# Lista para almacenar las imagenes de la muestra\n",
        "muestra = []\n",
        "\n",
        "# Función para calcular momentos invariantes de Hu\n",
        "def calcular_momentos_invariantes(imagen):\n",
        "    imagen_gris = cv2.cvtColor(imagen, cv2.COLOR_BGR2GRAY)\n",
        "    momentos = cv2.moments(imagen_gris)\n",
        "\n",
        "    # Calcular momentos invariantes de Hu\n",
        "    hu_moments = cv2.HuMoments(momentos)\n",
        "\n",
        "    # Escalar los momentos para hacerlos más robustos a cambios de escala\n",
        "    hu_moments = -1 * np.sign(hu_moments) * np.log10(np.abs(hu_moments))\n",
        "\n",
        "    # Devolver los momentos invariantes como un array unidimensional\n",
        "    return hu_moments.flatten()\n",
        "\n",
        "# Itera sobre las imagenes y añade a la muestra hasta alcanzar 1000 patrones\n",
        "for imagen_path, clase in imagenes:\n",
        "    imagen = cv2.imread(imagen_path)\n",
        "    momentos_invariantes = calcular_momentos_invariantes(imagen)\n",
        "\n",
        "\n",
        "    if contador_por_clase.get(clase, 0) < 250:\n",
        "        muestra.append((momentos_invariantes, clase))\n",
        "        contador_por_clase[clase] = contador_por_clase.get(clase, 0) + 1\n",
        "\n",
        "    if sum(contador_por_clase.values()) == 1000:\n",
        "        break\n",
        "\n",
        "# Verificar que la muestra tenga 1000 patrones\n",
        "print(\"Número de patrones en la muestra:\", len(muestra))\n"
      ],
      "metadata": {
        "colab": {
          "base_uri": "https://localhost:8080/"
        },
        "id": "g5sUAGPWu_C0",
        "outputId": "aba1437a-1138-46c7-ba92-56c44e95306d"
      },
      "execution_count": null,
      "outputs": [
        {
          "output_type": "stream",
          "name": "stdout",
          "text": [
            "Número de patrones en la muestra: 1000\n"
          ]
        }
      ]
    },
    {
      "cell_type": "code",
      "source": [
        "for i in range(10):\n",
        "    print(f\"Imagen {i + 1}:\")\n",
        "    print(\"Momentos Invariantes:\", muestra[i][0])\n",
        "    print(\"Clase:\", muestra[i][1])\n",
        "    print(\"----\")"
      ],
      "metadata": {
        "id": "2HlNA-b9yfUI"
      },
      "execution_count": null,
      "outputs": []
    },
    {
      "cell_type": "code",
      "source": [
        "# Crear una lista de encabezados para el archivo ARFF\n",
        "encabezados = []\n",
        "for i in range(len(muestra[0][0])):\n",
        "    encabezados.append(f'feature_{i+1}')\n",
        "\n",
        "# Crear el contenido del archivo ARFF\n",
        "arff_content = f\"@RELATION formas\\n\\n\"\n",
        "\n",
        "# Añadir encabezados de atributos\n",
        "for encabezado in encabezados:\n",
        "    arff_content += f\"@ATTRIBUTE {encabezado} NUMERIC\\n\"\n",
        "\n",
        "# Añadir la etiqueta de clase\n",
        "etiquetas_clases = set([clase for _, clase in muestra])\n",
        "clases_str = \"{\" + \",\".join(etiquetas_clases) + \"}\"\n",
        "arff_content += f\"@ATTRIBUTE class {clases_str}\\n\\n\"\n",
        "\n",
        "# Añadir datos\n",
        "arff_content += \"@DATA\\n\"\n",
        "for momentos, clase in muestra:\n",
        "    arff_content += \",\".join(map(str, momentos)) + f\",{clase}\\n\"\n",
        "\n",
        "# Guardar el contenido en un archivo ARFF\n",
        "with open('/content/drive/MyDrive/shape_forms.arff', 'w') as f:\n",
        "    f.write(arff_content)"
      ],
      "metadata": {
        "id": "UlYEmFdZ2mJk"
      },
      "execution_count": null,
      "outputs": []
    }
  ]
}